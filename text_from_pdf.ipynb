{
 "cells": [
  {
   "cell_type": "markdown",
   "metadata": {},
   "source": [
    "https://github.com/umbcdata601/spring2020/blob/master/jupyter_notebooks/week_03_getting_data/text_3_extract_text_from_pdf.ipynb"
   ]
  },
  {
   "cell_type": "markdown",
   "metadata": {},
   "source": [
    "not included here: https://en.wikipedia.org/wiki/Pdftotext\n",
    "\n",
    "https://stackoverflow.com/a/52683233/1164295"
   ]
  },
  {
   "cell_type": "code",
   "execution_count": null,
   "metadata": {},
   "outputs": [],
   "source": [
    "import glob"
   ]
  },
  {
   "cell_type": "code",
   "execution_count": null,
   "metadata": {},
   "outputs": [],
   "source": [
    "!ls docxs/*.pdf"
   ]
  },
  {
   "cell_type": "code",
   "execution_count": null,
   "metadata": {},
   "outputs": [],
   "source": [
    "all_files = glob.glob(\"docxs/*.pdf\")"
   ]
  },
  {
   "cell_type": "code",
   "execution_count": null,
   "metadata": {},
   "outputs": [],
   "source": [
    "all_data = {}"
   ]
  },
  {
   "cell_type": "code",
   "execution_count": null,
   "metadata": {},
   "outputs": [],
   "source": [
    "pdf_filename = 'docxs/CV.pdf'"
   ]
  },
  {
   "cell_type": "markdown",
   "metadata": {},
   "source": [
    "# PyPDF2"
   ]
  },
  {
   "cell_type": "code",
   "execution_count": null,
   "metadata": {},
   "outputs": [],
   "source": [
    "!pip install PyPDF2"
   ]
  },
  {
   "cell_type": "code",
   "execution_count": null,
   "metadata": {},
   "outputs": [],
   "source": [
    "import PyPDF2"
   ]
  },
  {
   "cell_type": "code",
   "execution_count": null,
   "metadata": {},
   "outputs": [],
   "source": [
    "for pdf_filename in all_files:\n",
    "    #print(\"=====\",pdf_filename,\"=====\")\n",
    "    pdf_file = open(pdf_filename, 'rb')\n",
    "    read_pdf = PyPDF2.PdfFileReader(pdf_file)\n",
    "    number_of_pages = read_pdf.getNumPages()\n",
    "    #print(number_of_pages,'pages\\n')\n",
    "    content = \"\"\n",
    "    for indx in range(number_of_pages):\n",
    "        page = read_pdf.getPage(indx)\n",
    "        page_content = page.extractText()\n",
    "        #print(page_content.encode('utf-8'))\n",
    "        content += str(page_content.encode('utf-8'))\n",
    "    try:\n",
    "        all_data[pdf_filename]['pypdf2'] = content\n",
    "    except KeyError:\n",
    "        all_data[pdf_filename] = {'pypdf2': content}\n"
   ]
  },
  {
   "cell_type": "markdown",
   "metadata": {},
   "source": [
    "# PDFminer"
   ]
  },
  {
   "cell_type": "markdown",
   "metadata": {},
   "source": [
    "https://pypi.org/project/pdfminer/\n",
    "\n",
    "https://github.com/pdfminer/pdfminer.six"
   ]
  },
  {
   "cell_type": "code",
   "execution_count": null,
   "metadata": {},
   "outputs": [],
   "source": [
    "!pip install pdfminer.six"
   ]
  },
  {
   "cell_type": "code",
   "execution_count": null,
   "metadata": {},
   "outputs": [],
   "source": [
    "for pdf_filename in all_files:\n",
    "    #print(\"=====\",pdf_filename,\"=====\")\n",
    "    !pdf2txt.py \"$pdf_filename\" > file_text.txt\n",
    "    with open('file_text.txt','r') as file_handle:\n",
    "        file_content = file_handle.read()\n",
    "    all_data[pdf_filename]['pdfminer'] = file_content"
   ]
  },
  {
   "cell_type": "markdown",
   "metadata": {},
   "source": [
    "# comparison"
   ]
  },
  {
   "cell_type": "code",
   "execution_count": null,
   "metadata": {},
   "outputs": [],
   "source": [
    "list_of_word_stems = ['word1','word2','corporation']"
   ]
  },
  {
   "cell_type": "code",
   "execution_count": null,
   "metadata": {},
   "outputs": [],
   "source": [
    "for filename, content_dict in all_data.items():\n",
    "    print(filename)\n",
    "    for libraryname, content_str in content_dict.items():\n",
    "        print(\"  \", libraryname)\n",
    "        cleaned_str = content_str.lower().replace('.','')\n",
    "        for this_word in list_of_word_stems:\n",
    "            if this_word in cleaned_str: print(\"     MATCH:\", this_word)"
   ]
  },
  {
   "cell_type": "raw",
   "metadata": {},
   "source": [
    "for filename, content_dict in all_data.items():\n",
    "    print(filename)\n",
    "    for libraryname, content_str in content_dict.items():\n",
    "        print(\"  \", libraryname)\n",
    "        cleaned_str = content_str.lower().replace('.','')\n",
    "        print(cleaned_str)"
   ]
  },
  {
   "cell_type": "code",
   "execution_count": null,
   "metadata": {},
   "outputs": [],
   "source": []
  }
 ],
 "metadata": {
  "kernelspec": {
   "display_name": "Python 3",
   "language": "python",
   "name": "python3"
  },
  "language_info": {
   "codemirror_mode": {
    "name": "ipython",
    "version": 3
   },
   "file_extension": ".py",
   "mimetype": "text/x-python",
   "name": "python",
   "nbconvert_exporter": "python",
   "pygments_lexer": "ipython3",
   "version": "3.8.6"
  }
 },
 "nbformat": 4,
 "nbformat_minor": 4
}
