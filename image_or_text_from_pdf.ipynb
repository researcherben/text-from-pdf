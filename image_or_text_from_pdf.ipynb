{
 "cells": [
  {
   "cell_type": "code",
   "execution_count": null,
   "metadata": {},
   "outputs": [],
   "source": [
    "import time\n",
    "import glob"
   ]
  },
  {
   "cell_type": "code",
   "execution_count": null,
   "metadata": {},
   "outputs": [],
   "source": [
    "all_pdfs = glob.glob(\"docxs/*.pdf\")"
   ]
  },
  {
   "cell_type": "code",
   "execution_count": null,
   "metadata": {},
   "outputs": [],
   "source": [
    "all_data = {}"
   ]
  },
  {
   "cell_type": "markdown",
   "metadata": {},
   "source": [
    "# PyPDF2\n",
    "\n",
    "https://pypi.org/project/py2pdf/"
   ]
  },
  {
   "cell_type": "code",
   "execution_count": null,
   "metadata": {},
   "outputs": [],
   "source": [
    "!pip install PyPDF2"
   ]
  },
  {
   "cell_type": "code",
   "execution_count": null,
   "metadata": {},
   "outputs": [],
   "source": [
    "import PyPDF2"
   ]
  },
  {
   "cell_type": "code",
   "execution_count": null,
   "metadata": {},
   "outputs": [],
   "source": [
    "for pdf_filename in all_pdfs:\n",
    "    #print(\"=====\",pdf_filename,\"=====\")\n",
    "    pdf_file = open(pdf_filename, 'rb')\n",
    "    read_pdf = PyPDF2.PdfFileReader(pdf_file)\n",
    "    number_of_pages = read_pdf.getNumPages()\n",
    "    #print(number_of_pages,'pages\\n')\n",
    "    content = \"\"\n",
    "    for indx in range(number_of_pages):\n",
    "        page = read_pdf.getPage(indx)\n",
    "        page_content = page.extractText()\n",
    "        #print(page_content.encode('utf-8'))\n",
    "        content += str(page_content.encode('utf-8'))\n",
    "    try:\n",
    "        all_data[pdf_filename]['pypdf2'] = content\n",
    "    except KeyError:\n",
    "        all_data[pdf_filename] = {'pypdf2': content}\n"
   ]
  },
  {
   "cell_type": "markdown",
   "metadata": {},
   "source": [
    "# PDFminer"
   ]
  },
  {
   "cell_type": "markdown",
   "metadata": {},
   "source": [
    "https://pypi.org/project/pdfminer/\n",
    "\n",
    "https://github.com/pdfminer/pdfminer.six"
   ]
  },
  {
   "cell_type": "code",
   "execution_count": null,
   "metadata": {},
   "outputs": [],
   "source": [
    "!pip install pdfminer.six"
   ]
  },
  {
   "cell_type": "code",
   "execution_count": null,
   "metadata": {},
   "outputs": [],
   "source": [
    "for pdf_filename in all_pdfs:\n",
    "    #print(\"=====\",pdf_filename,\"=====\")\n",
    "    !pdf2txt.py \"$pdf_filename\" > file_text.txt\n",
    "    with open('file_text.txt','r') as file_handle:\n",
    "        file_content = file_handle.read()\n",
    "    all_data[pdf_filename]['pdfminer'] = file_content"
   ]
  },
  {
   "cell_type": "markdown",
   "metadata": {},
   "source": [
    "# PDF to image to text (using tesseract)"
   ]
  },
  {
   "cell_type": "code",
   "execution_count": null,
   "metadata": {},
   "outputs": [],
   "source": [
    "# used by pdf2image\n",
    "!pip3 install Pillow # https://pypi.org/project/Pillow/"
   ]
  },
  {
   "cell_type": "code",
   "execution_count": null,
   "metadata": {},
   "outputs": [],
   "source": [
    "# used by pdf2image\n",
    "!conda install -c conda-forge poppler --yes"
   ]
  },
  {
   "cell_type": "markdown",
   "metadata": {},
   "source": [
    "https://pypi.org/project/pdf2image/\n",
    "\n",
    "https://pdf2image.readthedocs.io/en/latest/reference.html"
   ]
  },
  {
   "cell_type": "code",
   "execution_count": null,
   "metadata": {},
   "outputs": [],
   "source": [
    "!pip3 install pdf2image"
   ]
  },
  {
   "cell_type": "code",
   "execution_count": null,
   "metadata": {},
   "outputs": [],
   "source": [
    "!conda install -c conda-forge tesseract --yes"
   ]
  },
  {
   "cell_type": "code",
   "execution_count": null,
   "metadata": {},
   "outputs": [],
   "source": [
    "!pip3 install pytesseract"
   ]
  },
  {
   "cell_type": "code",
   "execution_count": null,
   "metadata": {},
   "outputs": [],
   "source": [
    "import pytesseract"
   ]
  },
  {
   "cell_type": "code",
   "execution_count": null,
   "metadata": {},
   "outputs": [],
   "source": [
    "# depends on poppler being installed\n",
    "from pdf2image import convert_from_path"
   ]
  },
  {
   "cell_type": "code",
   "execution_count": null,
   "metadata": {},
   "outputs": [],
   "source": [
    "start_time = time.time()\n",
    "for pdf_filename in all_pdfs:\n",
    "    print(pdf_filename)\n",
    "    pages = convert_from_path(pdf_filename, dpi=350)\n",
    "\n",
    "    i = 1\n",
    "    all_pages = \"\"\n",
    "    for page in pages:\n",
    "        print(\"page\",i,round(time.time()-start_time,2),'seconds')\n",
    "        image_name = pdf_filename + \"_\" + str(i) + \".jpg\"  \n",
    "        page.save(image_name, \"JPEG\")\n",
    "        \n",
    "        page_content = pytesseract.image_to_string(image_name, lang='eng')\n",
    "        all_pages += page_content.lower().replace('.','')\n",
    "    all_data[pdf_filename]['tesseract'] = all_pages\n",
    "    "
   ]
  },
  {
   "cell_type": "markdown",
   "metadata": {},
   "source": [
    "# comparison"
   ]
  },
  {
   "cell_type": "code",
   "execution_count": null,
   "metadata": {},
   "outputs": [],
   "source": [
    "group_keywords = {\"group 1\": [\"word1\",\"word2\"], # OR within that list\n",
    "                  \"group 2\": [\"word2\", \"corporation\"], \n",
    "                  \"group 3\": [\"bob\"]}"
   ]
  },
  {
   "cell_type": "code",
   "execution_count": null,
   "metadata": {},
   "outputs": [],
   "source": [
    "list_of_words = []\n",
    "for group, word_list in group_keywords.items():\n",
    "    for word in word_list:\n",
    "        list_of_words.append(word)"
   ]
  },
  {
   "cell_type": "code",
   "execution_count": null,
   "metadata": {},
   "outputs": [],
   "source": [
    "list_of_word_stems = list(set(list_of_words))"
   ]
  },
  {
   "cell_type": "markdown",
   "metadata": {},
   "source": [
    "print all the content"
   ]
  },
  {
   "cell_type": "raw",
   "metadata": {},
   "source": [
    "for filename, content_dict in all_data.items():\n",
    "    print(filename)\n",
    "    for libraryname, content_str in content_dict.items():\n",
    "        print(\"  \", libraryname)\n",
    "        cleaned_str = content_str.lower().replace('.','')\n",
    "        print(cleaned_str)"
   ]
  },
  {
   "cell_type": "markdown",
   "metadata": {},
   "source": [
    "show the matches per python library"
   ]
  },
  {
   "cell_type": "raw",
   "metadata": {},
   "source": [
    "for filename, content_dict in all_data.items():\n",
    "    print(filename)\n",
    "    for libraryname, content_str in content_dict.items():\n",
    "        print(\"  \", libraryname)\n",
    "        cleaned_str = content_str.lower().replace('.','')\n",
    "        for this_word in list_of_word_stems:\n",
    "            if this_word in cleaned_str: print(\"     MATCH:\", this_word)"
   ]
  },
  {
   "cell_type": "code",
   "execution_count": null,
   "metadata": {},
   "outputs": [],
   "source": [
    "for filename, content_dict in all_data.items():\n",
    "    #print(filename)\n",
    "    list_of_matched_words = []\n",
    "    for libraryname, content_str in content_dict.items():\n",
    "        cleaned_str = content_str.lower().replace('.','')\n",
    "        for this_word in list_of_word_stems:\n",
    "            if this_word in cleaned_str: \n",
    "                list_of_matched_words.append(this_word)\n",
    "    uniq_matches = list(set(list_of_matched_words))\n",
    "    if len(uniq_matches)==0:\n",
    "        print(len(uniq_matches),'keyword matches in',filename,'\\n')\n",
    "    else: # at least one match\n",
    "        str_to_print = str(len(uniq_matches)) + ' keyword matches in ' + filename +': '\n",
    "        for matched_word in uniq_matches:\n",
    "            str_to_print += matched_word + \", \"\n",
    "        print(str_to_print)\n",
    "        \n",
    "        groups_to_alert = []\n",
    "        for group, word_list in group_keywords.items():\n",
    "            for word in word_list:\n",
    "                if word in uniq_matches:\n",
    "                    groups_to_alert.append(group)\n",
    "        str_to_print = \"alert \"\n",
    "        for group in list(set(groups_to_alert)):\n",
    "            str_to_print += group + \" and \"\n",
    "        print(str_to_print[:-4]+\"\\n\")"
   ]
  },
  {
   "cell_type": "code",
   "execution_count": null,
   "metadata": {},
   "outputs": [],
   "source": []
  }
 ],
 "metadata": {
  "kernelspec": {
   "display_name": "Python 3",
   "language": "python",
   "name": "python3"
  },
  "language_info": {
   "codemirror_mode": {
    "name": "ipython",
    "version": 3
   },
   "file_extension": ".py",
   "mimetype": "text/x-python",
   "name": "python",
   "nbconvert_exporter": "python",
   "pygments_lexer": "ipython3",
   "version": "3.8.6"
  }
 },
 "nbformat": 4,
 "nbformat_minor": 4
}
